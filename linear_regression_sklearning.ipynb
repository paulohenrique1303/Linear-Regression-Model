{
  "nbformat": 4,
  "nbformat_minor": 0,
  "metadata": {
    "colab": {
      "provenance": [],
      "authorship_tag": "ABX9TyP/cqjsCkKRoXF17TWGuPED",
      "include_colab_link": true
    },
    "kernelspec": {
      "name": "python3",
      "display_name": "Python 3"
    },
    "language_info": {
      "name": "python"
    }
  },
  "cells": [
    {
      "cell_type": "markdown",
      "metadata": {
        "id": "view-in-github",
        "colab_type": "text"
      },
      "source": [
        "<a href=\"https://colab.research.google.com/github/paulohenrique1303/Linear-Regression-Model/blob/main/linear_regression_sklearning.ipynb\" target=\"_parent\"><img src=\"https://colab.research.google.com/assets/colab-badge.svg\" alt=\"Open In Colab\"/></a>"
      ]
    },
    {
      "cell_type": "markdown",
      "source": [
        "# Simple Linear Regression\n",
        "Linear regression analysis is used to predict the value of one variable based on the value of another. The variable you want to predict is called the dependent variable. The variable that is used to predict the value of another variable is called an independent variable. The model is a straight line, where y = ax + b"
      ],
      "metadata": {
        "id": "_ObRYUkvckfN"
      }
    },
    {
      "cell_type": "markdown",
      "source": [
        "###Necessary Imports"
      ],
      "metadata": {
        "id": "qgE3nYCZdwyV"
      }
    },
    {
      "cell_type": "code",
      "execution_count": null,
      "metadata": {
        "id": "AluAKkWRNLRA"
      },
      "outputs": [],
      "source": [
        "import pandas as pd \n",
        "from matplotlib import pyplot as plt #To visualize the data\n",
        "from sklearn.datasets import make_regression #To create a random dataset set\n",
        "from sklearn.linear_model import LinearRegression #To do linear regression"
      ]
    },
    {
      "cell_type": "markdown",
      "source": [
        "### Demonstration"
      ],
      "metadata": {
        "id": "eqtyikp72zZM"
      }
    },
    {
      "cell_type": "code",
      "source": [
        "x , y = make_regression(n_samples= 200 , n_features= 1, noise= 30) # n_samples for number of samples , n_features to number of categories , noise for noise\n",
        "plt.scatter(x , y) #To view the data"
      ],
      "metadata": {
        "colab": {
          "base_uri": "https://localhost:8080/",
          "height": 283
        },
        "id": "Zx9uvcLtfVnV",
        "outputId": "d492ea3e-e139-41c6-cad6-e143b39ae427"
      },
      "execution_count": null,
      "outputs": [
        {
          "output_type": "execute_result",
          "data": {
            "text/plain": [
              "<matplotlib.collections.PathCollection at 0x7f67857f0950>"
            ]
          },
          "metadata": {},
          "execution_count": 6
        },
        {
          "output_type": "display_data",
          "data": {
            "text/plain": [
              "<Figure size 432x288 with 1 Axes>"
            ],
            "image/png": "[encoded data removed]"
          },
          "metadata": {
            "needs_background": "light"
          }
        }
      ]
    },
    {
      "cell_type": "code",
      "source": [
        "modelo = LinearRegression()\n",
        "modelo.fit(x,y)"
      ],
      "metadata": {
        "colab": {
          "base_uri": "https://localhost:8080/"
        },
        "id": "LwDVca1pgFdM",
        "outputId": "d6adec85-e0f5-4c78-c823-0acf8ca513ad"
      },
      "execution_count": null,
      "outputs": [
        {
          "output_type": "execute_result",
          "data": {
            "text/plain": [
              "LinearRegression()"
            ]
          },
          "metadata": {},
          "execution_count": 7
        }
      ]
    },
    {
      "cell_type": "code",
      "source": [
        "a_coef = modelo.coef_ #angular coefficient\n",
        "b_coef = modelo.intercept_#linear coefficient\n",
        "#Both needed to do linear regression as they are given for the formula y = ax + b"
      ],
      "metadata": {
        "id": "XgK_P5epjVhs"
      },
      "execution_count": null,
      "outputs": []
    },
    {
      "cell_type": "code",
      "source": [
        "def reta(a , b ,x ):\n",
        "    return (a* x + b)\n",
        "reta(a_coef , b_coef , 2.5)"
      ],
      "metadata": {
        "id": "MB3HXDqUkBBt",
        "colab": {
          "base_uri": "https://localhost:8080/"
        },
        "outputId": "22dcc422-8a85-43e6-eeb2-4a027f09e74c"
      },
      "execution_count": null,
      "outputs": [
        {
          "output_type": "execute_result",
          "data": {
            "text/plain": [
              "array([233.88075348])"
            ]
          },
          "metadata": {},
          "execution_count": 14
        }
      ]
    },
    {
      "cell_type": "code",
      "source": [
        "plt.scatter(x , y)\n",
        "plt.plot(x , reta(a_coef, b_coef , x ), color = 'red')\n",
        "plt.scatter(2.5 , reta(a_coef , b_coef , 2.5), color = 'green')\n",
        "plt.show()"
      ],
      "metadata": {
        "colab": {
          "base_uri": "https://localhost:8080/",
          "height": 266
        },
        "id": "5Uy7NYeVzsJk",
        "outputId": "5371c1e4-9f3f-41b4-e673-f19dcbff5bc0"
      },
      "execution_count": null,
      "outputs": [
        {
          "output_type": "display_data",
          "data": {
            "text/plain": [
              "<Figure size 432x288 with 1 Axes>"
            ],
            "image/png": "[encoded data removed]"
          },
          "metadata": {
            "needs_background": "light"
          }
        }
      ]
    }
  ]
}